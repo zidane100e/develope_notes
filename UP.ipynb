{
 "cells": [
  {
   "cell_type": "markdown",
   "metadata": {},
   "source": [
    "# Universal Portfolio(UP) in zipline with CSV data\n",
    "Universal portfolio is implemented.  \n",
    "If we obtain weights of portfolio components, we can apply trading.  \n",
    "The codes are given in OLMAR example code.  \n",
    "You can change trsaction cost yourself.\n",
    "\n",
    "## References\n",
    "I borrowed codes for universal portfolio and zipline example codes from  \n",
    "https://github.com/andrewcharlesjones/universal_portfolios/blob/master/universal_portfolio.ipynb  \n",
    "https://github.com/shlomikushchi/zipline-trader/blob/master/zipline/examples/olmar.py"
   ]
  },
  {
   "cell_type": "code",
   "execution_count": 8,
   "metadata": {},
   "outputs": [],
   "source": [
    "import numpy as np\n",
    "import matplotlib.pyplot as plt\n",
    "import itertools\n",
    "import os\n",
    "import pandas as pd\n",
    "\n",
    "import zipline\n",
    "from zipline.data import bundles\n",
    "from zipline.data.bundles import ingest, load, register\n",
    "\n",
    "from zipline.pipeline.loaders import USEquityPricingLoader\n",
    "from zipline.utils.calendars import get_calendar\n",
    "from zipline.pipeline.data import USEquityPricing\n",
    "from zipline.data.data_portal import DataPortal\n",
    "\n",
    "from zipline.finance import commission, slippage\n",
    "from zipline.utils.calendars import get_calendar\n",
    "from zipline import run_algorithm"
   ]
  },
  {
   "cell_type": "code",
   "execution_count": 3,
   "metadata": {},
   "outputs": [],
   "source": [
    "home_zipline = 'PATH'\n",
    "os.environ['ZIPLINE_ROOT'] = os.path.join(home_zipline, '.zipline')\n",
    "os.environ['CSVDIR'] = 'CSV PATH'"
   ]
  },
  {
   "cell_type": "markdown",
   "metadata": {},
   "source": [
    "## note \n",
    "* DELL do not have data before 2016-7?"
   ]
  },
  {
   "cell_type": "markdown",
   "metadata": {},
   "source": [
    "## Preparation\n",
    "Load data and set necessaries"
   ]
  },
  {
   "cell_type": "code",
   "execution_count": 9,
   "metadata": {},
   "outputs": [],
   "source": [
    "bundle_name = 'csvdir'\n",
    "bundle_data = bundles.load(bundle_name)\n",
    "STOCKS = ['AMD', 'CERN', 'COST', 'DELL', 'GPS', 'INTC', 'MMM']\n",
    "# Set the trading calendar\n",
    "trading_calendar = get_calendar('NYSE')\n",
    "\n",
    "# time should be a business datetime\n",
    "start_date = pd.Timestamp('2016-09-20', tz='utc')\n",
    "end_date = pd.Timestamp('2021-03-01', tz='utc')"
   ]
  },
  {
   "cell_type": "markdown",
   "metadata": {},
   "source": [
    "## Definition of strategy"
   ]
  },
  {
   "cell_type": "markdown",
   "metadata": {},
   "source": [
    "### UP utilities"
   ]
  },
  {
   "cell_type": "code",
   "execution_count": 10,
   "metadata": {},
   "outputs": [],
   "source": [
    "# gets the total return for a given portfolio b\n",
    "def portfolio_wealth(b, stock_data):\n",
    "    return np.prod(np.dot(b, stock_data))\n",
    "\n",
    "# function for retrieving all possible portfolios at a certain level of granularity\n",
    "def binnings(n, k, cache={}):\n",
    "    \"\"\"\n",
    "    makes bins of all possibilities of allocations\n",
    "    ex. [1,0,0,0,...], [0.9, 0.1, 0, ...], ...\n",
    "    \"\"\"\n",
    "    if n == 0:\n",
    "        return np.zeros((1, k))\n",
    "    if k == 0:\n",
    "        return np.empty((0, 0))\n",
    "    args = (n, k)\n",
    "    if args in cache:\n",
    "        return cache[args]\n",
    "    a = binnings(n - 1, k, cache)\n",
    "    a1 = a + (np.arange(k) == 0)\n",
    "    b = binnings(n, k - 1, cache)\n",
    "    b1 = np.hstack((np.zeros((b.shape[0], 1)), b))\n",
    "    result = np.vstack((a1, b1))\n",
    "    cache[args] = result\n",
    "    return result"
   ]
  },
  {
   "cell_type": "markdown",
   "metadata": {},
   "source": [
    "### UP trading"
   ]
  },
  {
   "cell_type": "code",
   "execution_count": 71,
   "metadata": {},
   "outputs": [],
   "source": [
    "def initialize(algo):\n",
    "    algo.stocks = STOCKS\n",
    "    algo.sids = [algo.symbol(symbol) for symbol in algo.stocks]\n",
    "    algo.m = len(algo.stocks)\n",
    "    algo.price = {}\n",
    "    algo.b_t = np.ones(algo.m) / algo.m\n",
    "    algo.last_desired_port = np.ones(algo.m) / algo.m\n",
    "    algo.init = True\n",
    "    algo.days = 1\n",
    "    \n",
    "    algo.set_commission(commission.PerShare(cost=0, \n",
    "                                            min_trade_cost=1.0))\n",
    "    algo.set_slippage(slippage.VolumeShareSlippage())\n",
    "\n",
    "\n",
    "def handle_data(algo, data):\n",
    "    history = data.history(algo.sids, 'close', algo.days, '1d')\n",
    "    returns = history.pct_change().fillna(0).to_numpy() + 1.0\n",
    "    returns = returns.transpose()\n",
    "    \n",
    "    rets = [portfolio_wealth(port1, returns) \n",
    "            for port1 in list(all_portfolios)]\n",
    "    weights = np.dot(rets, all_portfolios)\n",
    "    weightsb = weights/np.sum(rets)\n",
    "\n",
    "    rebalance_portfolio(algo, data, weightsb)\n",
    "\n",
    "    # update portfolio\n",
    "    algo.b_t = weightsb\n",
    "    algo.days += 1\n",
    "    \n",
    "    \n",
    "def rebalance_portfolio(algo, data, desired_port):\n",
    "    \"\"\"\n",
    "    Execute trading. Obtained from OLMAR example\n",
    "    if a weight of portfolio elements, parameter desired_port, \n",
    "    is given, it gives order amount and execute it\n",
    "    \"\"\"\n",
    "    desired_amount = np.zeros_like(desired_port)\n",
    "    current_amount = np.zeros_like(desired_port)\n",
    "    prices = np.zeros_like(desired_port)\n",
    "\n",
    "    if algo.init:\n",
    "        positions_value = algo.portfolio.starting_cash\n",
    "    else:\n",
    "        positions_value = algo.portfolio.positions_value + \\\n",
    "            algo.portfolio.cash\n",
    "\n",
    "    for i, sid in enumerate(algo.sids):\n",
    "        current_amount[i] = algo.portfolio.positions[sid].amount\n",
    "        prices[i] = data.current(sid, \"price\")\n",
    "\n",
    "    desired_amount = np.round(desired_port * positions_value / prices)\n",
    "    \n",
    "    algo.last_desired_port = desired_port\n",
    "    diff_amount = desired_amount - current_amount\n",
    "\n",
    "    for i, sid in enumerate(algo.sids):\n",
    "        algo.order(sid, diff_amount[i])"
   ]
  },
  {
   "cell_type": "markdown",
   "metadata": {},
   "source": [
    "## Run UP strategy"
   ]
  },
  {
   "cell_type": "code",
   "execution_count": 22,
   "metadata": {
    "tags": []
   },
   "outputs": [],
   "source": [
    "# set UniversalPortfolio settings\n",
    "# all_portfolios has all constant weight portfolios\n",
    "allocation_granularity = 10\n",
    "num_stocks = len(STOCKS)\n",
    "all_portfolio_allocations = binnings(allocation_granularity, num_stocks)\n",
    "row_sums = all_portfolio_allocations.sum(axis=1)\n",
    "all_portfolios = all_portfolio_allocations / row_sums[:, np.newaxis]"
   ]
  },
  {
   "cell_type": "code",
   "execution_count": 73,
   "metadata": {
    "tags": []
   },
   "outputs": [
    {
     "data": {
      "text/plain": [
       "array([[1. , 0. , 0. , 0. , 0. , 0. , 0. ],\n",
       "       [0.9, 0.1, 0. , 0. , 0. , 0. , 0. ],\n",
       "       [0.9, 0. , 0.1, 0. , 0. , 0. , 0. ]])"
      ]
     },
     "execution_count": 73,
     "metadata": {},
     "output_type": "execute_result"
    }
   ],
   "source": [
    "# check\n",
    "all_portfolios[:3]"
   ]
  },
  {
   "cell_type": "code",
   "execution_count": 24,
   "metadata": {
    "tags": []
   },
   "outputs": [],
   "source": [
    "import pandas_datareader.data as yahoo_reader\n",
    "def get_benchmark(symbol=None, start=None, end=None):\n",
    "    bm = yahoo_reader.DataReader(symbol,\n",
    "                                 'yahoo',\n",
    "                                 pd.Timestamp(start),\n",
    "                                 pd.Timestamp(end))['Close']\n",
    "    bm.index = bm.index.tz_localize('UTC')\n",
    "    return bm.pct_change(periods=1).fillna(0)\n",
    "\n",
    "def before_trading_start(context, data):\n",
    "    pass"
   ]
  },
  {
   "cell_type": "code",
   "execution_count": 25,
   "metadata": {
    "tags": []
   },
   "outputs": [],
   "source": [
    "benchmark = get_benchmark(symbol=\"SPY\",\n",
    "                          start=start_date.date().isoformat(),\n",
    "                          end=end_date.date().isoformat())"
   ]
  },
  {
   "cell_type": "code",
   "execution_count": 72,
   "metadata": {},
   "outputs": [
    {
     "data": {
      "image/png": "[encoded data removed]",
      "text/plain": [
       "<Figure size 1152x360 with 1 Axes>"
      ]
     },
     "metadata": {
      "needs_background": "light"
     },
     "output_type": "display_data"
    }
   ],
   "source": [
    "r = run_algorithm(start=start_date,\n",
    "                      end=end_date,\n",
    "                      initialize=initialize,\n",
    "                      capital_base=100000,\n",
    "                      handle_data=handle_data,\n",
    "                      benchmark_returns=benchmark,\n",
    "                      bundle=bundle_name,\n",
    "                      broker=None,\n",
    "                      state_filename=\"./demo.state\",\n",
    "                      trading_calendar=trading_calendar,\n",
    "                      before_trading_start=before_trading_start,\n",
    "                      #                   analyze=analyze,\n",
    "                      data_frequency='daily'\n",
    "                      )\n",
    "fig, axes = plt.subplots(1, 1, figsize=(16, 5), sharex=True)\n",
    "r.algorithm_period_return.plot(color='blue')\n",
    "r.benchmark_period_return.plot(color='red')\n",
    "\n",
    "\n",
    "plt.legend(['UP', 'Benchmark'])\n",
    "plt.ylabel(\"Returns\", color='black', size=20)\n",
    "plt.show()"
   ]
  },
  {
   "cell_type": "code",
   "execution_count": null,
   "metadata": {},
   "outputs": [],
   "source": []
  }
 ],
 "metadata": {
  "kernelspec": {
   "display_name": "Python My Env",
   "language": "python",
   "name": "python-my-env"
  },
  "language_info": {
   "codemirror_mode": {
    "name": "ipython",
    "version": 3
   },
   "file_extension": ".py",
   "mimetype": "text/x-python",
   "name": "python",
   "nbconvert_exporter": "python",
   "pygments_lexer": "ipython3",
   "version": "3.6.13"
  }
 },
 "nbformat": 4,
 "nbformat_minor": 4
}
